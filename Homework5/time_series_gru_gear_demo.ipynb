{
  "cells": [
    {
      "cell_type": "markdown",
      "metadata": {
        "_uuid": "724469e0f265ace6818c5413ad9b046edf534c6f",
        "id": "-AjB45BThPlL"
      },
      "source": [
        "# LeNet-5 CNN with Keras:\n",
        "** I am developing a series of kernels for different Deep Learning Models: **\n",
        "\n",
        "* [L-Layered Neural Network from scratch](https://www.kaggle.com/curiousprogrammer/l-layered-neural-network-from-scratch)\n",
        "* [TensorFlow NN with Augmentation](https://www.kaggle.com/curiousprogrammer/digit-recognizer-tensorflow-nn-with-augmentation)\n",
        "* [Data Augmentation in Python, TF, Keras, Imgaug](https://www.kaggle.com/curiousprogrammer/data-augmentation-in-python-tf-keras-imgaug)\n",
        "* [Deep NN with Keras](https://www.kaggle.com/curiousprogrammer/deep-nn-with-keras-97-5)\n",
        "* [CNN with TensorFlow](https://www.kaggle.com/curiousprogrammer/lenet-5-cnn-with-tensorflow-98-5)\n",
        "* CNN with Keras - This one\n",
        "* AutoEncoders with TensorFlow\n",
        "* AutoEncoders with Keras\n",
        "* GANs with TensorFlow\n",
        "* GANs with Keras"
      ]
    },
    {
      "cell_type": "code",
      "source": [],
      "metadata": {
        "id": "LX85gD0lkKMK"
      },
      "execution_count": null,
      "outputs": []
    },
    {
      "cell_type": "code",
      "source": [
        "if 0:\n",
        "    from google.colab import drive\n",
        "    drive.mount('/content/drive')"
      ],
      "metadata": {
        "id": "jyjruMGUkMwa"
      },
      "execution_count": null,
      "outputs": []
    },
    {
      "cell_type": "code",
      "source": [
        "if 0:\n",
        "    !cp -r /content/drive/MyDrive/HomeWork5 /content/"
      ],
      "metadata": {
        "id": "V7Ly3jhykefY"
      },
      "execution_count": null,
      "outputs": []
    },
    {
      "cell_type": "code",
      "source": [
        "!pip install tensorflow-addons"
      ],
      "metadata": {
        "colab": {
          "base_uri": "https://localhost:8080/"
        },
        "id": "kKLek_FdnelQ",
        "outputId": "bde859e6-abdc-4b4a-9770-16bb15cf4687"
      },
      "execution_count": null,
      "outputs": [
        {
          "output_type": "stream",
          "name": "stdout",
          "text": [
            "Looking in indexes: https://pypi.org/simple, https://us-python.pkg.dev/colab-wheels/public/simple/\n",
            "Requirement already satisfied: tensorflow-addons in /usr/local/lib/python3.7/dist-packages (0.18.0)\n",
            "Requirement already satisfied: typeguard>=2.7 in /usr/local/lib/python3.7/dist-packages (from tensorflow-addons) (2.7.1)\n",
            "Requirement already satisfied: packaging in /usr/local/lib/python3.7/dist-packages (from tensorflow-addons) (21.3)\n",
            "Requirement already satisfied: pyparsing!=3.0.5,>=2.0.2 in /usr/local/lib/python3.7/dist-packages (from packaging->tensorflow-addons) (3.0.9)\n"
          ]
        }
      ]
    },
    {
      "cell_type": "code",
      "source": [
        "#kaggle datasets download -d athota1/caltech101\n",
        "if 0:\n",
        "  ! pip install --upgrade --force-reinstall --no-deps kaggle\n",
        "  from google.colab import files\n",
        "  files.upload()\n",
        "  ! mkdir ~/.kaggle\n",
        "  ! cp kaggle.json ~/.kaggle/\n",
        "  ! chmod 600 ~/.kaggle/kaggle.json\n",
        "  ! kaggle competitions download -c digit-recognizer\n",
        "\n",
        "  ! unzip digit-recognizer.zip -d /content/digit-recognizer\n"
      ],
      "metadata": {
        "id": "EfnySsf0isoh"
      },
      "execution_count": null,
      "outputs": []
    },
    {
      "cell_type": "code",
      "execution_count": null,
      "metadata": {
        "_cell_guid": "b1076dfc-b9ad-4769-8c92-a6c4dae69d19",
        "_uuid": "8f2839f25d086af736a60e9eeb907d3b93b6e0e5",
        "id": "rx2ppyEChPlO"
      },
      "outputs": [],
      "source": [
        "# This Python 3 environment comes with many helpful analytics libraries installed\n",
        "# It is defined by the kaggle/python docker image: https://github.com/kaggle/docker-python\n",
        "# For example, here's several helpful packages to load in\n",
        "\n",
        "import numpy as np # linear algebra\n",
        "import pandas as pd # data processing, CSV file I/O (e.g. pd.read_csv)\n",
        "import keras\n",
        "from keras.models import Sequential\n",
        "from keras.layers import Conv2D, Dense, MaxPool2D, Dropout, Flatten\n",
        "from keras.optimizers import Adam\n",
        "from keras.preprocessing.image import ImageDataGenerator\n",
        "from keras.callbacks import ReduceLROnPlateau\n",
        "from sklearn.model_selection import train_test_split\n",
        "import matplotlib.pyplot as plt\n",
        "import seaborn as sns\n",
        "\n",
        "# Input data files are available in the \"/content/digit-recognizer/\" directory.\n",
        "# For example, running this (by clicking run or pressing Shift+Enter) will list the files in the input directory\n",
        "\n",
        "import os\n",
        "\n",
        "\n",
        "# Any results you write to the current directory are saved as output."
      ]
    },
    {
      "cell_type": "markdown",
      "metadata": {
        "_cell_guid": "79c7e3d0-c299-4dcb-8224-4455121ee9b0",
        "_uuid": "d629ff2d2480ee46fbb7e2d37f6b5fab8052498a",
        "collapsed": true,
        "id": "YqapNbvehPlQ"
      },
      "source": [
        "# Load Data"
      ]
    },
    {
      "cell_type": "code",
      "source": [
        "X_train = np.load('/content/HomeWork5/data/DataForClassification_TimeDomain.npy')\n",
        "X_train = np.transpose(X_train)\n",
        "print(X_train.shape)"
      ],
      "metadata": {
        "colab": {
          "base_uri": "https://localhost:8080/"
        },
        "id": "fx7rXIkGkCm-",
        "outputId": "2fca5a0f-d165-49db-a601-913e85bf57a2"
      },
      "execution_count": null,
      "outputs": [
        {
          "output_type": "stream",
          "name": "stdout",
          "text": [
            "(936, 3600)\n"
          ]
        }
      ]
    },
    {
      "cell_type": "code",
      "source": [
        "#types=9={'healthy','missing','crack','spall','chip5a','chip4a','chip3a','chip2a','chip1a'}"
      ],
      "metadata": {
        "id": "HAImWLQXmCj8"
      },
      "execution_count": null,
      "outputs": []
    },
    {
      "cell_type": "code",
      "source": [
        "Y_train = np.zeros((936,1))\n",
        "label=0\n",
        "print(label)\n",
        "for i in range(936):\n",
        "\n",
        "  Y_train[i]=label\n",
        "  if (i%104==0) and (i!=0):\n",
        "     label = label +1\n",
        "     print(label)"
      ],
      "metadata": {
        "colab": {
          "base_uri": "https://localhost:8080/"
        },
        "id": "Mk1BBLLSmEr4",
        "outputId": "5e2c1521-4b8f-4244-851f-05eae8eaf7e2"
      },
      "execution_count": null,
      "outputs": [
        {
          "output_type": "stream",
          "name": "stdout",
          "text": [
            "0\n",
            "1\n",
            "2\n",
            "3\n",
            "4\n",
            "5\n",
            "6\n",
            "7\n",
            "8\n"
          ]
        }
      ]
    },
    {
      "cell_type": "code",
      "source": [
        "Y_train[104:103*2]"
      ],
      "metadata": {
        "id": "_FIQEQbVm7vP"
      },
      "execution_count": null,
      "outputs": []
    },
    {
      "cell_type": "code",
      "execution_count": null,
      "metadata": {
        "_uuid": "446814df733cfa6d1af6b1c824ae07d506d4394a",
        "id": "swNsXh17hPlS"
      },
      "outputs": [],
      "source": [
        "X_train = np.array(X_train)\n",
        "Y_train = np.array(Y_train)"
      ]
    },
    {
      "cell_type": "code",
      "source": [
        "Y_train = tf.keras.utils.to_categorical(Y_train, num_classes = 9)"
      ],
      "metadata": {
        "id": "F4_Kzf9hsuvE"
      },
      "execution_count": null,
      "outputs": []
    },
    {
      "cell_type": "code",
      "source": [
        "print(Y_train[101,:])"
      ],
      "metadata": {
        "colab": {
          "base_uri": "https://localhost:8080/"
        },
        "id": "0Rzt8bPnudtp",
        "outputId": "440e56b2-11fc-4e5e-8e67-3f2ad7ec41b2"
      },
      "execution_count": null,
      "outputs": [
        {
          "output_type": "stream",
          "name": "stdout",
          "text": [
            "[1. 0. 0. 0. 0. 0. 0. 0. 0.]\n"
          ]
        }
      ]
    },
    {
      "cell_type": "markdown",
      "metadata": {
        "_uuid": "77329c63e08164e2b0bb11e34de7b14b5cd0cdef",
        "id": "UbAI-zxJhPlT"
      },
      "source": [
        "# Plot Digits"
      ]
    },
    {
      "cell_type": "code",
      "execution_count": null,
      "metadata": {
        "_uuid": "fbb906464bc6be7872b8eca49e6cc4604941816c",
        "id": "2_q4Hk_0hPlV",
        "colab": {
          "base_uri": "https://localhost:8080/"
        },
        "outputId": "fa77ce0f-0a06-4bce-e0b8-ded4cd7f4908"
      },
      "outputs": [
        {
          "output_type": "stream",
          "name": "stdout",
          "text": [
            "(598, 3600)\n",
            "(150, 3600)\n",
            "(188, 3600)\n"
          ]
        }
      ],
      "source": [
        "#Train-Test Split\n",
        "X_dev, X_test, Y_dev, Y_test = train_test_split(X_train, Y_train, test_size=0.2, shuffle=True, random_state=0)\n",
        "\n",
        "X_train, X_val, Y_train, Y_val = train_test_split(X_dev, Y_dev, test_size=0.2, shuffle=True, random_state=0)\n",
        "print(X_train.shape)\n",
        "print(X_val.shape)\n",
        "print(X_test.shape)"
      ]
    },
    {
      "cell_type": "code",
      "source": [
        "X_train = np.expand_dims(X_train, axis=1)\n",
        "X_val = np.expand_dims(X_val, axis=1)\n",
        "X_test = np.expand_dims(X_test, axis=1)\n",
        "Y_train = np.expand_dims(Y_train, axis=1)\n",
        "Y_val = np.expand_dims(Y_val, axis=1)\n",
        "Y_test = np.expand_dims(Y_test, axis=1)"
      ],
      "metadata": {
        "id": "VdYun-PXxGhO"
      },
      "execution_count": null,
      "outputs": []
    },
    {
      "cell_type": "code",
      "source": [
        "import tensorflow_addons as tfa\n",
        "from keras import layers"
      ],
      "metadata": {
        "id": "MhTrYFvLntcO"
      },
      "execution_count": null,
      "outputs": []
    },
    {
      "cell_type": "code",
      "execution_count": null,
      "metadata": {
        "_uuid": "39f4eb788b9d8d1fd6d90bf8207aef93e0bf97a7",
        "id": "qr_GVZHChPlX"
      },
      "outputs": [],
      "source": [
        "model = Sequential()\n",
        "\n",
        "model.add(layers.GRU(32, input_shape=(1, 3600 ), return_sequences=True))\n",
        "\n",
        "model.add(layers.Dense(8))\n",
        "model.add(Dense(9, activation='softmax')) #burayi 9 yapacaksaniz"
      ]
    },
    {
      "cell_type": "code",
      "execution_count": null,
      "metadata": {
        "_uuid": "5fd1c9e9fbb72c4b56b1e960821cf5d2b6c8c618",
        "id": "4fIvlq9ZhPlX",
        "colab": {
          "base_uri": "https://localhost:8080/"
        },
        "outputId": "8f5e2cbe-a0ff-449e-a1b6-9b301c614850"
      },
      "outputs": [
        {
          "output_type": "stream",
          "name": "stdout",
          "text": [
            "Model: \"sequential_20\"\n",
            "_________________________________________________________________\n",
            " Layer (type)                Output Shape              Param #   \n",
            "=================================================================\n",
            " gru_18 (GRU)                (None, 1, 64)             703872    \n",
            "                                                                 \n",
            " dense_35 (Dense)            (None, 1, 32)             2080      \n",
            "                                                                 \n",
            " dense_36 (Dense)            (None, 1, 9)              297       \n",
            "                                                                 \n",
            "=================================================================\n",
            "Total params: 706,249\n",
            "Trainable params: 706,249\n",
            "Non-trainable params: 0\n",
            "_________________________________________________________________\n"
          ]
        }
      ],
      "source": [
        "model.build()\n",
        "model.summary()"
      ]
    },
    {
      "cell_type": "code",
      "execution_count": null,
      "metadata": {
        "_uuid": "d34ba8b4723050c33b3390d2a05220636c2f0f8a",
        "id": "SlLRbHXMhPlY",
        "colab": {
          "base_uri": "https://localhost:8080/"
        },
        "outputId": "5d89f7e2-075a-4c71-b3b9-5d80da28752b"
      },
      "outputs": [
        {
          "output_type": "stream",
          "name": "stderr",
          "text": [
            "/usr/local/lib/python3.7/dist-packages/keras/optimizers/optimizer_v2/adam.py:110: UserWarning: The `lr` argument is deprecated, use `learning_rate` instead.\n",
            "  super(Adam, self).__init__(name, **kwargs)\n"
          ]
        }
      ],
      "source": [
        "adam = Adam(lr=1e-3)\n",
        "model.compile(loss='categorical_crossentropy', metrics=['accuracy'], optimizer=adam)"
      ]
    },
    {
      "cell_type": "code",
      "execution_count": null,
      "metadata": {
        "_uuid": "f0dfd9488061194f9ef01a57d62f10e0de8fa028",
        "id": "U2HdVANWhPlY"
      },
      "outputs": [],
      "source": [
        "# Set a learning rate annealer\n",
        "import tensorflow as tf\n",
        "\n",
        "\n",
        "model_name_save= '/content/nn_model.hdf5'\n",
        "checkpoint = tf.keras.callbacks.ModelCheckpoint(model_name_save, save_freq='epoch', monitor='val_accuracy', verbose=1, save_best_only=True, mode='max')\n",
        "early_stop = tf.keras.callbacks.EarlyStopping(  monitor='val_accuracy', patience=12, verbose=1,  mode='max',restore_best_weights=False)\n",
        "reduce_lr = tf.keras.callbacks.ReduceLROnPlateau(  monitor='val_accuracy', factor=0.3, patience=7,  min_lr=1e-5, verbose=1,  mode='max')\n"
      ]
    },
    {
      "cell_type": "code",
      "source": [
        "X_train.shape"
      ],
      "metadata": {
        "colab": {
          "base_uri": "https://localhost:8080/"
        },
        "id": "9ZGkgqdYx8JR",
        "outputId": "d5882cbd-3621-47b8-e6cc-90e96ab46a41"
      },
      "execution_count": null,
      "outputs": [
        {
          "output_type": "execute_result",
          "data": {
            "text/plain": [
              "(598, 1, 3600)"
            ]
          },
          "metadata": {},
          "execution_count": 478
        }
      ]
    },
    {
      "cell_type": "code",
      "execution_count": null,
      "metadata": {
        "_uuid": "b6441c7f0b7ad33d1e3ca91b3d82f91a28b6f42a",
        "id": "LQxRSwxGhPlZ"
      },
      "outputs": [],
      "source": [
        "model.fit(X_train, Y_train, validation_data=(X_val, Y_val), epochs=50, batch_size=64)"
      ]
    },
    {
      "cell_type": "markdown",
      "metadata": {
        "_uuid": "53f5237ef36125cc68508a0158fef0fda1a5b53e",
        "id": "nYEKEVbFhPla"
      },
      "source": [
        "# Let's predict test data"
      ]
    },
    {
      "cell_type": "code",
      "execution_count": null,
      "metadata": {
        "_uuid": "065f63d7fe1610827e0a88473c9c4e7504fddcd6",
        "id": "k-JHVPRThPlb",
        "colab": {
          "base_uri": "https://localhost:8080/"
        },
        "outputId": "7e7a6c17-ed21-4dd6-efe0-6481a10d8ba0"
      },
      "outputs": [
        {
          "output_type": "stream",
          "name": "stdout",
          "text": [
            "188/188 [==============================] - 1s 2ms/step\n"
          ]
        }
      ],
      "source": [
        "Y_pred = model.predict(X_test, batch_size=1)\n",
        "Y_pred = Y_pred.squeeze()"
      ]
    }
  ],
  "metadata": {
    "kernelspec": {
      "display_name": "Python 3",
      "language": "python",
      "name": "python3"
    },
    "language_info": {
      "codemirror_mode": {
        "name": "ipython",
        "version": 3
      },
      "file_extension": ".py",
      "mimetype": "text/x-python",
      "name": "python",
      "nbconvert_exporter": "python",
      "pygments_lexer": "ipython3",
      "version": "3.6.6"
    },
    "colab": {
      "provenance": [],
      "machine_shape": "hm"
    },
    "accelerator": "GPU",
    "gpuClass": "standard"
  },
  "nbformat": 4,
  "nbformat_minor": 0
}