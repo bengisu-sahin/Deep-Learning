{
  "nbformat": 4,
  "nbformat_minor": 0,
  "metadata": {
    "colab": {
      "provenance": []
    },
    "kernelspec": {
      "name": "python3",
      "display_name": "Python 3"
    },
    "language_info": {
      "name": "python"
    }
  },
  "cells": [
    {
      "cell_type": "code",
      "execution_count": 1,
      "metadata": {
        "id": "wx1r47_d6mSS",
        "colab": {
          "base_uri": "https://localhost:8080/"
        },
        "outputId": "9ba04ca9-2859-4b05-83c8-78fb77c095b6"
      },
      "outputs": [
        {
          "output_type": "stream",
          "name": "stdout",
          "text": [
            "Collecting tensorflow-addons\n",
            "  Downloading tensorflow_addons-0.23.0-cp310-cp310-manylinux_2_17_x86_64.manylinux2014_x86_64.whl (611 kB)\n",
            "\u001b[2K     \u001b[90m━━━━━━━━━━━━━━━━━━━━━━━━━━━━━━━━━━━━━━━━\u001b[0m \u001b[32m611.8/611.8 kB\u001b[0m \u001b[31m3.2 MB/s\u001b[0m eta \u001b[36m0:00:00\u001b[0m\n",
            "\u001b[?25hRequirement already satisfied: packaging in /usr/local/lib/python3.10/dist-packages (from tensorflow-addons) (23.2)\n",
            "Collecting typeguard<3.0.0,>=2.7 (from tensorflow-addons)\n",
            "  Downloading typeguard-2.13.3-py3-none-any.whl (17 kB)\n",
            "Installing collected packages: typeguard, tensorflow-addons\n",
            "Successfully installed tensorflow-addons-0.23.0 typeguard-2.13.3\n"
          ]
        }
      ],
      "source": [
        "!pip install tensorflow-addons"
      ]
    },
    {
      "cell_type": "code",
      "source": [
        "import numpy as np\n",
        "import pandas as pd\n",
        "import keras\n",
        "from keras.models import Sequential\n",
        "from keras.layers import Conv2D, Dense, MaxPool2D, Dropout, Flatten\n",
        "from keras.optimizers import Adam\n",
        "from keras.preprocessing.image import ImageDataGenerator\n",
        "from keras.callbacks import ReduceLROnPlateau\n",
        "from sklearn.model_selection import train_test_split\n",
        "import matplotlib.pyplot as plt\n",
        "import seaborn as sns\n",
        "import os\n",
        "import tensorflow as tf\n",
        "import keras\n",
        "import tensorflow_addons as tfa\n",
        "from keras import layers\n",
        "from keras.models import load_model\n",
        "from sklearn.metrics import accuracy_score,precision_score,recall_score,f1_score,cohen_kappa_score,roc_auc_score,confusion_matrix\n",
        "import seaborn as sn"
      ],
      "metadata": {
        "colab": {
          "base_uri": "https://localhost:8080/"
        },
        "id": "C5-dPrefuzX3",
        "outputId": "606556b7-0025-43ff-cf77-62b34d758d67"
      },
      "execution_count": 2,
      "outputs": [
        {
          "output_type": "stream",
          "name": "stderr",
          "text": [
            "/usr/local/lib/python3.10/dist-packages/tensorflow_addons/utils/tfa_eol_msg.py:23: UserWarning: \n",
            "\n",
            "TensorFlow Addons (TFA) has ended development and introduction of new features.\n",
            "TFA has entered a minimal maintenance and release mode until a planned end of life in May 2024.\n",
            "Please modify downstream libraries to take dependencies from other repositories in our TensorFlow community (e.g. Keras, Keras-CV, and Keras-NLP). \n",
            "\n",
            "For more information see: https://github.com/tensorflow/addons/issues/2807 \n",
            "\n",
            "  warnings.warn(\n"
          ]
        }
      ]
    },
    {
      "cell_type": "markdown",
      "source": [
        "**Load Data from Drive**"
      ],
      "metadata": {
        "id": "5qTtF6ZJv63I"
      }
    },
    {
      "cell_type": "code",
      "source": [
        "X_train = np.load('/content/drive/MyDrive/Bengisu/DL/data/DataForClassification_TimeDomain.npy')\n",
        "X_train = np.transpose(X_train)\n",
        "print(X_train.shape)"
      ],
      "metadata": {
        "colab": {
          "base_uri": "https://localhost:8080/"
        },
        "id": "AE5dSdHVu1qE",
        "outputId": "04b7862e-9bb3-4ef0-d19f-3f2efea4699b"
      },
      "execution_count": 7,
      "outputs": [
        {
          "output_type": "stream",
          "name": "stdout",
          "text": [
            "(936, 3600)\n"
          ]
        }
      ]
    },
    {
      "cell_type": "code",
      "source": [
        "types={'healthy','missing','crack','spall','chip5a','chip4a','chip3a','chip2a','chip1a'}\n",
        "types"
      ],
      "metadata": {
        "colab": {
          "base_uri": "https://localhost:8080/"
        },
        "id": "fUQcQh36wQwk",
        "outputId": "d4d4b637-e2eb-46da-8e44-d6bb2e3f0c87"
      },
      "execution_count": 8,
      "outputs": [
        {
          "output_type": "execute_result",
          "data": {
            "text/plain": [
              "{'chip1a',\n",
              " 'chip2a',\n",
              " 'chip3a',\n",
              " 'chip4a',\n",
              " 'chip5a',\n",
              " 'crack',\n",
              " 'healthy',\n",
              " 'missing',\n",
              " 'spall'}"
            ]
          },
          "metadata": {},
          "execution_count": 8
        }
      ]
    },
    {
      "cell_type": "code",
      "source": [
        "Y_train = np.zeros((936,1))\n",
        "label=0\n",
        "print(label)\n",
        "for i in range(936):\n",
        "\n",
        "  Y_train[i]=label\n",
        "  if (i%104==0) and (i!=0):\n",
        "     label = label +1\n",
        "     print(label)"
      ],
      "metadata": {
        "colab": {
          "base_uri": "https://localhost:8080/"
        },
        "id": "qqbYYveZw6lW",
        "outputId": "bf496611-0f78-4dcd-c372-ec23f9349738"
      },
      "execution_count": 9,
      "outputs": [
        {
          "output_type": "stream",
          "name": "stdout",
          "text": [
            "0\n",
            "1\n",
            "2\n",
            "3\n",
            "4\n",
            "5\n",
            "6\n",
            "7\n",
            "8\n"
          ]
        }
      ]
    },
    {
      "cell_type": "code",
      "source": [
        "Y_train[104:103*2]"
      ],
      "metadata": {
        "colab": {
          "base_uri": "https://localhost:8080/"
        },
        "id": "oddAddKOw7ze",
        "outputId": "c9d237c9-30a3-499c-efb2-9aafa498ba2e"
      },
      "execution_count": 10,
      "outputs": [
        {
          "output_type": "execute_result",
          "data": {
            "text/plain": [
              "array([[0.],\n",
              "       [1.],\n",
              "       [1.],\n",
              "       [1.],\n",
              "       [1.],\n",
              "       [1.],\n",
              "       [1.],\n",
              "       [1.],\n",
              "       [1.],\n",
              "       [1.],\n",
              "       [1.],\n",
              "       [1.],\n",
              "       [1.],\n",
              "       [1.],\n",
              "       [1.],\n",
              "       [1.],\n",
              "       [1.],\n",
              "       [1.],\n",
              "       [1.],\n",
              "       [1.],\n",
              "       [1.],\n",
              "       [1.],\n",
              "       [1.],\n",
              "       [1.],\n",
              "       [1.],\n",
              "       [1.],\n",
              "       [1.],\n",
              "       [1.],\n",
              "       [1.],\n",
              "       [1.],\n",
              "       [1.],\n",
              "       [1.],\n",
              "       [1.],\n",
              "       [1.],\n",
              "       [1.],\n",
              "       [1.],\n",
              "       [1.],\n",
              "       [1.],\n",
              "       [1.],\n",
              "       [1.],\n",
              "       [1.],\n",
              "       [1.],\n",
              "       [1.],\n",
              "       [1.],\n",
              "       [1.],\n",
              "       [1.],\n",
              "       [1.],\n",
              "       [1.],\n",
              "       [1.],\n",
              "       [1.],\n",
              "       [1.],\n",
              "       [1.],\n",
              "       [1.],\n",
              "       [1.],\n",
              "       [1.],\n",
              "       [1.],\n",
              "       [1.],\n",
              "       [1.],\n",
              "       [1.],\n",
              "       [1.],\n",
              "       [1.],\n",
              "       [1.],\n",
              "       [1.],\n",
              "       [1.],\n",
              "       [1.],\n",
              "       [1.],\n",
              "       [1.],\n",
              "       [1.],\n",
              "       [1.],\n",
              "       [1.],\n",
              "       [1.],\n",
              "       [1.],\n",
              "       [1.],\n",
              "       [1.],\n",
              "       [1.],\n",
              "       [1.],\n",
              "       [1.],\n",
              "       [1.],\n",
              "       [1.],\n",
              "       [1.],\n",
              "       [1.],\n",
              "       [1.],\n",
              "       [1.],\n",
              "       [1.],\n",
              "       [1.],\n",
              "       [1.],\n",
              "       [1.],\n",
              "       [1.],\n",
              "       [1.],\n",
              "       [1.],\n",
              "       [1.],\n",
              "       [1.],\n",
              "       [1.],\n",
              "       [1.],\n",
              "       [1.],\n",
              "       [1.],\n",
              "       [1.],\n",
              "       [1.],\n",
              "       [1.],\n",
              "       [1.],\n",
              "       [1.],\n",
              "       [1.]])"
            ]
          },
          "metadata": {},
          "execution_count": 10
        }
      ]
    },
    {
      "cell_type": "code",
      "source": [
        "X_train = np.array(X_train)\n",
        "Y_train = np.array(Y_train)"
      ],
      "metadata": {
        "id": "JKORCOpxxBUE"
      },
      "execution_count": 11,
      "outputs": []
    },
    {
      "cell_type": "code",
      "source": [
        "Y_train = tf.keras.utils.to_categorical(Y_train, num_classes = 9)\n",
        "print(Y_train[101,:])"
      ],
      "metadata": {
        "colab": {
          "base_uri": "https://localhost:8080/"
        },
        "id": "ybAelnjtxLed",
        "outputId": "b6540bc5-c45e-4c41-cd96-17b2ee1d80dc"
      },
      "execution_count": 12,
      "outputs": [
        {
          "output_type": "stream",
          "name": "stdout",
          "text": [
            "[1. 0. 0. 0. 0. 0. 0. 0. 0.]\n"
          ]
        }
      ]
    },
    {
      "cell_type": "markdown",
      "source": [
        "**Plot Digits**"
      ],
      "metadata": {
        "id": "0F-CGvsaxmA-"
      }
    },
    {
      "cell_type": "code",
      "source": [
        "#Train-Test Split\n",
        "X_dev, X_test, Y_dev, Y_test = train_test_split(X_train, Y_train, test_size=0.2, shuffle=True, random_state=0)\n",
        "\n",
        "X_train, X_val, Y_train, Y_val = train_test_split(X_dev, Y_dev, test_size=0.2, shuffle=True, random_state=0)\n",
        "print(X_train.shape)\n",
        "print(X_val.shape)\n",
        "print(X_test.shape)"
      ],
      "metadata": {
        "colab": {
          "base_uri": "https://localhost:8080/"
        },
        "id": "sVWop585xugl",
        "outputId": "182626e7-4a8b-40c3-9e97-34d109990527"
      },
      "execution_count": 13,
      "outputs": [
        {
          "output_type": "stream",
          "name": "stdout",
          "text": [
            "(598, 3600)\n",
            "(150, 3600)\n",
            "(188, 3600)\n"
          ]
        }
      ]
    },
    {
      "cell_type": "code",
      "source": [
        "X_train = np.expand_dims(X_train, axis=1)\n",
        "X_val = np.expand_dims(X_val, axis=1)\n",
        "X_test = np.expand_dims(X_test, axis=1)\n",
        "Y_train = np.expand_dims(Y_train, axis=1)\n",
        "Y_val = np.expand_dims(Y_val, axis=1)\n",
        "Y_test = np.expand_dims(Y_test, axis=1)"
      ],
      "metadata": {
        "id": "-gI5xjX-zkRH"
      },
      "execution_count": 14,
      "outputs": []
    },
    {
      "cell_type": "code",
      "source": [
        "model = Sequential()\n",
        "model.add(layers.GRU(32, input_shape=(1, 3600 ), return_sequences=True))\n",
        "model.add(layers.Dense(8))\n",
        "model.add(Dense(9, activation='softmax'))"
      ],
      "metadata": {
        "id": "xxMbedkYzlNM"
      },
      "execution_count": 15,
      "outputs": []
    },
    {
      "cell_type": "code",
      "source": [
        "model.build()\n",
        "model.summary()"
      ],
      "metadata": {
        "colab": {
          "base_uri": "https://localhost:8080/"
        },
        "id": "RJ23X019zqO-",
        "outputId": "b34a15a4-d823-4ebf-fb4c-c3c4d7cc873a"
      },
      "execution_count": 16,
      "outputs": [
        {
          "output_type": "stream",
          "name": "stdout",
          "text": [
            "Model: \"sequential\"\n",
            "_________________________________________________________________\n",
            " Layer (type)                Output Shape              Param #   \n",
            "=================================================================\n",
            " gru (GRU)                   (None, 1, 32)             348864    \n",
            "                                                                 \n",
            " dense (Dense)               (None, 1, 8)              264       \n",
            "                                                                 \n",
            " dense_1 (Dense)             (None, 1, 9)              81        \n",
            "                                                                 \n",
            "=================================================================\n",
            "Total params: 349209 (1.33 MB)\n",
            "Trainable params: 349209 (1.33 MB)\n",
            "Non-trainable params: 0 (0.00 Byte)\n",
            "_________________________________________________________________\n"
          ]
        }
      ]
    },
    {
      "cell_type": "code",
      "source": [
        "adam = Adam(lr=1e-3)\n",
        "model.compile(loss='categorical_crossentropy', metrics=['accuracy'], optimizer=adam)"
      ],
      "metadata": {
        "colab": {
          "base_uri": "https://localhost:8080/"
        },
        "id": "IMWW3hM5zs77",
        "outputId": "754644c5-2c1b-403c-d1bb-cae16171034d"
      },
      "execution_count": 17,
      "outputs": [
        {
          "output_type": "stream",
          "name": "stderr",
          "text": [
            "WARNING:absl:`lr` is deprecated in Keras optimizer, please use `learning_rate` or use the legacy optimizer, e.g.,tf.keras.optimizers.legacy.Adam.\n"
          ]
        }
      ]
    },
    {
      "cell_type": "code",
      "source": [
        "# Set a learning rate annealer\n",
        "model_name_save= '/content/hw5_model.hdf5'\n",
        "checkpoint = tf.keras.callbacks.ModelCheckpoint(model_name_save, save_freq='epoch', monitor='val_accuracy', verbose=1, save_best_only=True, mode='max')\n",
        "early_stop = tf.keras.callbacks.EarlyStopping(  monitor='val_accuracy', patience=12, verbose=1,  mode='max',restore_best_weights=False)\n",
        "reduce_lr = tf.keras.callbacks.ReduceLROnPlateau(  monitor='val_accuracy', factor=0.3, patience=7,  min_lr=1e-5, verbose=1,  mode='max')\n"
      ],
      "metadata": {
        "id": "T1mcp0rfz4uH"
      },
      "execution_count": 18,
      "outputs": []
    },
    {
      "cell_type": "code",
      "source": [
        "X_train.shape"
      ],
      "metadata": {
        "colab": {
          "base_uri": "https://localhost:8080/"
        },
        "id": "_kEfAvrBz9b2",
        "outputId": "5413bffb-a2fb-4337-dce1-8b4c8951a601"
      },
      "execution_count": 19,
      "outputs": [
        {
          "output_type": "execute_result",
          "data": {
            "text/plain": [
              "(598, 1, 3600)"
            ]
          },
          "metadata": {},
          "execution_count": 19
        }
      ]
    },
    {
      "cell_type": "code",
      "source": [
        "model.fit(X_train, Y_train, validation_data=(X_val, Y_val), epochs=50, batch_size=64)"
      ],
      "metadata": {
        "colab": {
          "base_uri": "https://localhost:8080/"
        },
        "id": "w71DoIEv0AP8",
        "outputId": "09fe70cb-71b4-4bcf-e467-26d60ebe07ae"
      },
      "execution_count": 20,
      "outputs": [
        {
          "output_type": "stream",
          "name": "stdout",
          "text": [
            "Epoch 1/50\n",
            "10/10 [==============================] - 3s 78ms/step - loss: 1.9679 - accuracy: 0.5067 - val_loss: 1.6842 - val_accuracy: 0.6333\n",
            "Epoch 2/50\n",
            "10/10 [==============================] - 0s 13ms/step - loss: 1.4483 - accuracy: 0.7910 - val_loss: 1.3354 - val_accuracy: 0.7400\n",
            "Epoch 3/50\n",
            "10/10 [==============================] - 0s 12ms/step - loss: 1.0820 - accuracy: 0.8495 - val_loss: 1.0647 - val_accuracy: 0.7800\n",
            "Epoch 4/50\n",
            "10/10 [==============================] - 0s 13ms/step - loss: 0.8173 - accuracy: 0.8896 - val_loss: 0.8652 - val_accuracy: 0.8467\n",
            "Epoch 5/50\n",
            "10/10 [==============================] - 0s 12ms/step - loss: 0.6240 - accuracy: 0.9398 - val_loss: 0.7110 - val_accuracy: 0.8933\n",
            "Epoch 6/50\n",
            "10/10 [==============================] - 0s 14ms/step - loss: 0.4815 - accuracy: 0.9682 - val_loss: 0.5932 - val_accuracy: 0.9200\n",
            "Epoch 7/50\n",
            "10/10 [==============================] - 0s 14ms/step - loss: 0.3757 - accuracy: 0.9766 - val_loss: 0.5072 - val_accuracy: 0.9333\n",
            "Epoch 8/50\n",
            "10/10 [==============================] - 0s 15ms/step - loss: 0.2965 - accuracy: 0.9799 - val_loss: 0.4414 - val_accuracy: 0.9333\n",
            "Epoch 9/50\n",
            "10/10 [==============================] - 0s 13ms/step - loss: 0.2364 - accuracy: 0.9866 - val_loss: 0.3954 - val_accuracy: 0.9333\n",
            "Epoch 10/50\n",
            "10/10 [==============================] - 0s 13ms/step - loss: 0.1915 - accuracy: 0.9866 - val_loss: 0.3554 - val_accuracy: 0.9400\n",
            "Epoch 11/50\n",
            "10/10 [==============================] - 0s 14ms/step - loss: 0.1581 - accuracy: 0.9883 - val_loss: 0.3248 - val_accuracy: 0.9400\n",
            "Epoch 12/50\n",
            "10/10 [==============================] - 0s 13ms/step - loss: 0.1313 - accuracy: 0.9916 - val_loss: 0.3022 - val_accuracy: 0.9400\n",
            "Epoch 13/50\n",
            "10/10 [==============================] - 0s 14ms/step - loss: 0.1111 - accuracy: 0.9916 - val_loss: 0.2852 - val_accuracy: 0.9400\n",
            "Epoch 14/50\n",
            "10/10 [==============================] - 0s 13ms/step - loss: 0.0944 - accuracy: 0.9933 - val_loss: 0.2744 - val_accuracy: 0.9467\n",
            "Epoch 15/50\n",
            "10/10 [==============================] - 0s 14ms/step - loss: 0.0812 - accuracy: 0.9933 - val_loss: 0.2618 - val_accuracy: 0.9533\n",
            "Epoch 16/50\n",
            "10/10 [==============================] - 0s 14ms/step - loss: 0.0709 - accuracy: 0.9950 - val_loss: 0.2528 - val_accuracy: 0.9533\n",
            "Epoch 17/50\n",
            "10/10 [==============================] - 0s 13ms/step - loss: 0.0619 - accuracy: 0.9967 - val_loss: 0.2468 - val_accuracy: 0.9533\n",
            "Epoch 18/50\n",
            "10/10 [==============================] - 0s 13ms/step - loss: 0.0545 - accuracy: 0.9967 - val_loss: 0.2394 - val_accuracy: 0.9533\n",
            "Epoch 19/50\n",
            "10/10 [==============================] - 0s 14ms/step - loss: 0.0486 - accuracy: 0.9967 - val_loss: 0.2344 - val_accuracy: 0.9533\n",
            "Epoch 20/50\n",
            "10/10 [==============================] - 0s 14ms/step - loss: 0.0435 - accuracy: 0.9967 - val_loss: 0.2304 - val_accuracy: 0.9533\n",
            "Epoch 21/50\n",
            "10/10 [==============================] - 0s 12ms/step - loss: 0.0394 - accuracy: 0.9967 - val_loss: 0.2277 - val_accuracy: 0.9533\n",
            "Epoch 22/50\n",
            "10/10 [==============================] - 0s 13ms/step - loss: 0.0355 - accuracy: 0.9983 - val_loss: 0.2237 - val_accuracy: 0.9533\n",
            "Epoch 23/50\n",
            "10/10 [==============================] - 0s 12ms/step - loss: 0.0322 - accuracy: 0.9983 - val_loss: 0.2210 - val_accuracy: 0.9533\n",
            "Epoch 24/50\n",
            "10/10 [==============================] - 0s 13ms/step - loss: 0.0295 - accuracy: 0.9983 - val_loss: 0.2190 - val_accuracy: 0.9533\n",
            "Epoch 25/50\n",
            "10/10 [==============================] - 0s 12ms/step - loss: 0.0270 - accuracy: 0.9983 - val_loss: 0.2174 - val_accuracy: 0.9533\n",
            "Epoch 26/50\n",
            "10/10 [==============================] - 0s 13ms/step - loss: 0.0248 - accuracy: 1.0000 - val_loss: 0.2150 - val_accuracy: 0.9533\n",
            "Epoch 27/50\n",
            "10/10 [==============================] - 0s 13ms/step - loss: 0.0229 - accuracy: 1.0000 - val_loss: 0.2124 - val_accuracy: 0.9533\n",
            "Epoch 28/50\n",
            "10/10 [==============================] - 0s 13ms/step - loss: 0.0212 - accuracy: 1.0000 - val_loss: 0.2101 - val_accuracy: 0.9533\n",
            "Epoch 29/50\n",
            "10/10 [==============================] - 0s 13ms/step - loss: 0.0197 - accuracy: 1.0000 - val_loss: 0.2085 - val_accuracy: 0.9533\n",
            "Epoch 30/50\n",
            "10/10 [==============================] - 0s 12ms/step - loss: 0.0184 - accuracy: 1.0000 - val_loss: 0.2074 - val_accuracy: 0.9533\n",
            "Epoch 31/50\n",
            "10/10 [==============================] - 0s 13ms/step - loss: 0.0171 - accuracy: 1.0000 - val_loss: 0.2072 - val_accuracy: 0.9533\n",
            "Epoch 32/50\n",
            "10/10 [==============================] - 0s 14ms/step - loss: 0.0161 - accuracy: 1.0000 - val_loss: 0.2072 - val_accuracy: 0.9533\n",
            "Epoch 33/50\n",
            "10/10 [==============================] - 0s 12ms/step - loss: 0.0150 - accuracy: 1.0000 - val_loss: 0.2071 - val_accuracy: 0.9533\n",
            "Epoch 34/50\n",
            "10/10 [==============================] - 0s 13ms/step - loss: 0.0141 - accuracy: 1.0000 - val_loss: 0.2067 - val_accuracy: 0.9533\n",
            "Epoch 35/50\n",
            "10/10 [==============================] - 0s 14ms/step - loss: 0.0133 - accuracy: 1.0000 - val_loss: 0.2063 - val_accuracy: 0.9533\n",
            "Epoch 36/50\n",
            "10/10 [==============================] - 0s 13ms/step - loss: 0.0125 - accuracy: 1.0000 - val_loss: 0.2054 - val_accuracy: 0.9533\n",
            "Epoch 37/50\n",
            "10/10 [==============================] - 0s 15ms/step - loss: 0.0118 - accuracy: 1.0000 - val_loss: 0.2048 - val_accuracy: 0.9533\n",
            "Epoch 38/50\n",
            "10/10 [==============================] - 0s 12ms/step - loss: 0.0112 - accuracy: 1.0000 - val_loss: 0.2043 - val_accuracy: 0.9533\n",
            "Epoch 39/50\n",
            "10/10 [==============================] - 0s 13ms/step - loss: 0.0106 - accuracy: 1.0000 - val_loss: 0.2041 - val_accuracy: 0.9533\n",
            "Epoch 40/50\n",
            "10/10 [==============================] - 0s 20ms/step - loss: 0.0100 - accuracy: 1.0000 - val_loss: 0.2041 - val_accuracy: 0.9533\n",
            "Epoch 41/50\n",
            "10/10 [==============================] - 0s 19ms/step - loss: 0.0095 - accuracy: 1.0000 - val_loss: 0.2041 - val_accuracy: 0.9533\n",
            "Epoch 42/50\n",
            "10/10 [==============================] - 0s 19ms/step - loss: 0.0091 - accuracy: 1.0000 - val_loss: 0.2033 - val_accuracy: 0.9533\n",
            "Epoch 43/50\n",
            "10/10 [==============================] - 0s 20ms/step - loss: 0.0086 - accuracy: 1.0000 - val_loss: 0.2026 - val_accuracy: 0.9533\n",
            "Epoch 44/50\n",
            "10/10 [==============================] - 0s 19ms/step - loss: 0.0082 - accuracy: 1.0000 - val_loss: 0.2027 - val_accuracy: 0.9533\n",
            "Epoch 45/50\n",
            "10/10 [==============================] - 0s 49ms/step - loss: 0.0078 - accuracy: 1.0000 - val_loss: 0.2024 - val_accuracy: 0.9533\n",
            "Epoch 46/50\n",
            "10/10 [==============================] - 0s 50ms/step - loss: 0.0075 - accuracy: 1.0000 - val_loss: 0.2024 - val_accuracy: 0.9533\n",
            "Epoch 47/50\n",
            "10/10 [==============================] - 0s 20ms/step - loss: 0.0071 - accuracy: 1.0000 - val_loss: 0.2020 - val_accuracy: 0.9533\n",
            "Epoch 48/50\n",
            "10/10 [==============================] - 0s 19ms/step - loss: 0.0069 - accuracy: 1.0000 - val_loss: 0.2020 - val_accuracy: 0.9533\n",
            "Epoch 49/50\n",
            "10/10 [==============================] - 0s 51ms/step - loss: 0.0066 - accuracy: 1.0000 - val_loss: 0.2018 - val_accuracy: 0.9533\n",
            "Epoch 50/50\n",
            "10/10 [==============================] - 0s 34ms/step - loss: 0.0063 - accuracy: 1.0000 - val_loss: 0.2014 - val_accuracy: 0.9533\n"
          ]
        },
        {
          "output_type": "execute_result",
          "data": {
            "text/plain": [
              "<keras.src.callbacks.History at 0x79f6786021d0>"
            ]
          },
          "metadata": {},
          "execution_count": 20
        }
      ]
    },
    {
      "cell_type": "markdown",
      "source": [
        "**Predict Test Data**"
      ],
      "metadata": {
        "id": "n61dpC0i0ShL"
      }
    },
    {
      "cell_type": "code",
      "source": [
        "pred = model.predict(X_test, batch_size=1)\n",
        "pred = pred.flatten()\n",
        "print(pred.round(2))\n",
        "Y_pred = np.where(pred > 0.05, 1, 0)\n",
        "print(Y_pred)"
      ],
      "metadata": {
        "colab": {
          "base_uri": "https://localhost:8080/"
        },
        "id": "sfyjLd120WEZ",
        "outputId": "48083afc-ff0f-414d-ee98-96d9fef4ba48"
      },
      "execution_count": 21,
      "outputs": [
        {
          "output_type": "stream",
          "name": "stdout",
          "text": [
            "188/188 [==============================] - 1s 2ms/step\n",
            "[0.   0.   0.   ... 0.17 0.03 0.14]\n",
            "[0 0 0 ... 1 0 1]\n"
          ]
        }
      ]
    },
    {
      "cell_type": "code",
      "source": [
        "model.save(\"model.h5\")\n",
        "new_model = tf.keras.models.load_model('model.h5')\n",
        "model.summary()\n",
        "score = model.evaluate(X_test, Y_test, batch_size=16)\n",
        "print(\"%s: %.2f%%\" % (model.metrics_names[1], score[1]*100))"
      ],
      "metadata": {
        "colab": {
          "base_uri": "https://localhost:8080/"
        },
        "id": "gzC-P9Ri1Ln2",
        "outputId": "ca287a3e-7462-44bf-93a5-b5d5080de2c3"
      },
      "execution_count": 22,
      "outputs": [
        {
          "output_type": "stream",
          "name": "stderr",
          "text": [
            "/usr/local/lib/python3.10/dist-packages/keras/src/engine/training.py:3103: UserWarning: You are saving your model as an HDF5 file via `model.save()`. This file format is considered legacy. We recommend using instead the native Keras format, e.g. `model.save('my_model.keras')`.\n",
            "  saving_api.save_model(\n"
          ]
        },
        {
          "output_type": "stream",
          "name": "stdout",
          "text": [
            "Model: \"sequential\"\n",
            "_________________________________________________________________\n",
            " Layer (type)                Output Shape              Param #   \n",
            "=================================================================\n",
            " gru (GRU)                   (None, 1, 32)             348864    \n",
            "                                                                 \n",
            " dense (Dense)               (None, 1, 8)              264       \n",
            "                                                                 \n",
            " dense_1 (Dense)             (None, 1, 9)              81        \n",
            "                                                                 \n",
            "=================================================================\n",
            "Total params: 349209 (1.33 MB)\n",
            "Trainable params: 349209 (1.33 MB)\n",
            "Non-trainable params: 0 (0.00 Byte)\n",
            "_________________________________________________________________\n",
            "12/12 [==============================] - 0s 14ms/step - loss: 0.1556 - accuracy: 0.9574\n",
            "accuracy: 95.74%\n"
          ]
        }
      ]
    },
    {
      "cell_type": "code",
      "source": [
        "print(Y_test.shape)\n",
        "Y_true = Y_test.reshape(1692)\n",
        "print(Y_true.shape)\n",
        "print(Y_pred.shape)\n",
        "\n",
        "print('accuracy score:' + str(accuracy_score(Y_true, Y_pred)))\n",
        "\n",
        "A=confusion_matrix(Y_true, Y_pred)\n",
        "print('confusion matrix:\\n' ,A)\n",
        "\n",
        "df_cm = pd.DataFrame(A, index = [i for i in \"AB\"], columns = [i for i in \"AB\"])\n",
        "plt.figure(figsize = (2,2))\n",
        "sn.heatmap(df_cm, annot=True)"
      ],
      "metadata": {
        "colab": {
          "base_uri": "https://localhost:8080/",
          "height": 353
        },
        "id": "WJG82bhH1Nj1",
        "outputId": "549e0a7b-a9e3-4cf1-8d11-038ce467071f"
      },
      "execution_count": 23,
      "outputs": [
        {
          "output_type": "stream",
          "name": "stdout",
          "text": [
            "(188, 1, 9)\n",
            "(1692,)\n",
            "(1692,)\n",
            "accuracy score:0.9710401891252955\n",
            "confusion matrix:\n",
            " [[1457   47]\n",
            " [   2  186]]\n"
          ]
        },
        {
          "output_type": "execute_result",
          "data": {
            "text/plain": [
              "<Axes: >"
            ]
          },
          "metadata": {},
          "execution_count": 23
        },
        {
          "output_type": "display_data",
          "data": {
            "text/plain": [
              "<Figure size 200x200 with 2 Axes>"
            ],
            "image/png": "[encoded data removed]"
          },
          "metadata": {}
        }
      ]
    }
  ]
}